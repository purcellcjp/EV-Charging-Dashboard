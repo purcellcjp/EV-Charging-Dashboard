{
 "cells": [
  {
   "cell_type": "code",
   "execution_count": 1,
   "metadata": {},
   "outputs": [],
   "source": [
    "import os\n",
    "import json\n",
    "import requests\n",
    "import pandas as pd\n",
    "from pathlib import Path\n",
    "from pprint import pprint\n",
    "# Import API Key\n",
    "from config import api_key\n"
   ]
  },
  {
   "cell_type": "code",
   "execution_count": 2,
   "metadata": {},
   "outputs": [
    {
     "name": "stderr",
     "output_type": "stream",
     "text": [
      "IOPub data rate exceeded.\n",
      "The Jupyter server will temporarily stop sending output\n",
      "to the client in order to avoid crashing it.\n",
      "To change this limit, set the config variable\n",
      "`--ServerApp.iopub_data_rate_limit`.\n",
      "\n",
      "Current values:\n",
      "ServerApp.iopub_data_rate_limit=1000000.0 (bytes/sec)\n",
      "ServerApp.rate_limit_window=3.0 (secs)\n",
      "\n"
     ]
    }
   ],
   "source": [
    "url = 'https://developer.nrel.gov/api/alt-fuel-stations/v1.geojson?'\n",
    "\n",
    "limit = 'limit=all'\n",
    "country = 'country=US&'\n",
    "type = 'fuel_type=ELEC&'\n",
    "api = 'api_key=' + api_key + '&'\n",
    "state = 'state=MD,VA,DC&'\n",
    "\n",
    "response = requests.get(url + api + type + country + state + limit).json()\n",
    "data = json.dumps(response,\n",
    "                         indent = 2,\n",
    "                         separators =(\". \", \" = \"),\n",
    "                         sort_keys = True)\n",
    "print(data)\n",
    "features = response['features']"
   ]
  },
  {
   "cell_type": "code",
   "execution_count": 3,
   "metadata": {},
   "outputs": [],
   "source": [
    "latitude = []\n",
    "longitude = []\n",
    "date_confirmed = []\n",
    "city = []\n",
    "id = []\n",
    "station_name = []\n",
    "zip = []\n",
    "street_address = []\n",
    "dc_fast = []\n",
    "level1 = []\n",
    "level2 = []\n",
    "public = []\n",
    "owner = []\n",
    "state = []"
   ]
  },
  {
   "cell_type": "code",
   "execution_count": 4,
   "metadata": {},
   "outputs": [],
   "source": [
    "x = 0\n",
    "for item in features:\n",
    "        latitude.append(features[x]['geometry']['coordinates'][1])\n",
    "        longitude.append(features[x]['geometry']['coordinates'][0])\n",
    "        date_confirmed.append(features[x]['properties']['date_last_confirmed'])\n",
    "        city.append(features[x]['properties']['city'])\n",
    "        id.append(features[x]['properties']['id'])\n",
    "        station_name.append(features[x]['properties']['station_name'])\n",
    "        zip.append(features[x]['properties']['zip'])\n",
    "        street_address.append(features[x]['properties']['street_address'])\n",
    "        dc_fast.append(features[x]['properties']['ev_dc_fast_num'])\n",
    "        level1.append(features[x]['properties'][\"ev_level1_evse_num\"])\n",
    "        level2.append(features[x]['properties'][\"ev_level2_evse_num\"])\n",
    "        public.append(features[x]['properties'][\"access_code\"])\n",
    "        owner.append(features[x]['properties']['ev_network'])\n",
    "        state.append(features[x]['properties']['state'])\n",
    "        x = x + 1"
   ]
  },
  {
   "cell_type": "code",
   "execution_count": 5,
   "metadata": {},
   "outputs": [],
   "source": [
    "df_data = {\"ID\":id,\"Station Name\":station_name,\"Access\":public,\"Owner\":owner,\"Last_Used\":date_confirmed,\"DC_Fast\":dc_fast,\"Level1_Charging\":level1, \\\n",
    "\"Level2_Charging\":level2, \"Address\":street_address,\"City\":city,\"State\":state,\"Zipcode\":zip}"
   ]
  },
  {
   "cell_type": "code",
   "execution_count": 6,
   "metadata": {},
   "outputs": [
    {
     "data": {
      "text/html": [
       "<div>\n",
       "<style scoped>\n",
       "    .dataframe tbody tr th:only-of-type {\n",
       "        vertical-align: middle;\n",
       "    }\n",
       "\n",
       "    .dataframe tbody tr th {\n",
       "        vertical-align: top;\n",
       "    }\n",
       "\n",
       "    .dataframe thead th {\n",
       "        text-align: right;\n",
       "    }\n",
       "</style>\n",
       "<table border=\"1\" class=\"dataframe\">\n",
       "  <thead>\n",
       "    <tr style=\"text-align: right;\">\n",
       "      <th></th>\n",
       "      <th>ID</th>\n",
       "      <th>Station Name</th>\n",
       "      <th>Access</th>\n",
       "      <th>Owner</th>\n",
       "      <th>Last_Used</th>\n",
       "      <th>DC_Fast</th>\n",
       "      <th>Level1_Charging</th>\n",
       "      <th>Level2_Charging</th>\n",
       "      <th>Address</th>\n",
       "      <th>City</th>\n",
       "      <th>State</th>\n",
       "      <th>Zipcode</th>\n",
       "    </tr>\n",
       "  </thead>\n",
       "  <tbody>\n",
       "    <tr>\n",
       "      <th>0</th>\n",
       "      <td>36363</td>\n",
       "      <td>ARUNDEL MILLS ELEMENT HOTELS</td>\n",
       "      <td>public</td>\n",
       "      <td>ChargePoint Network</td>\n",
       "      <td>2024-10-10</td>\n",
       "      <td>NaN</td>\n",
       "      <td>1.0</td>\n",
       "      <td>NaN</td>\n",
       "      <td>7522 Teague Rd</td>\n",
       "      <td>Hanover</td>\n",
       "      <td>MD</td>\n",
       "      <td>21076</td>\n",
       "    </tr>\n",
       "    <tr>\n",
       "      <th>1</th>\n",
       "      <td>39514</td>\n",
       "      <td>Hotel Floyd</td>\n",
       "      <td>public</td>\n",
       "      <td>Non-Networked</td>\n",
       "      <td>2022-11-10</td>\n",
       "      <td>NaN</td>\n",
       "      <td>NaN</td>\n",
       "      <td>1.0</td>\n",
       "      <td>120 Wilson St</td>\n",
       "      <td>Floyd</td>\n",
       "      <td>VA</td>\n",
       "      <td>24091</td>\n",
       "    </tr>\n",
       "    <tr>\n",
       "      <th>2</th>\n",
       "      <td>39763</td>\n",
       "      <td>Passport Nissan - Alexandria</td>\n",
       "      <td>public</td>\n",
       "      <td>Non-Networked</td>\n",
       "      <td>2024-02-12</td>\n",
       "      <td>1.0</td>\n",
       "      <td>NaN</td>\n",
       "      <td>3.0</td>\n",
       "      <td>150 S Pickett St</td>\n",
       "      <td>Alexandria</td>\n",
       "      <td>VA</td>\n",
       "      <td>22304</td>\n",
       "    </tr>\n",
       "    <tr>\n",
       "      <th>3</th>\n",
       "      <td>39764</td>\n",
       "      <td>Priority Nissan - Chantilly</td>\n",
       "      <td>public</td>\n",
       "      <td>Non-Networked</td>\n",
       "      <td>2024-02-12</td>\n",
       "      <td>1.0</td>\n",
       "      <td>NaN</td>\n",
       "      <td>2.0</td>\n",
       "      <td>14840 Stonecroft Center Ct</td>\n",
       "      <td>Chantilly</td>\n",
       "      <td>VA</td>\n",
       "      <td>20151</td>\n",
       "    </tr>\n",
       "    <tr>\n",
       "      <th>4</th>\n",
       "      <td>39765</td>\n",
       "      <td>Colonial Nissan</td>\n",
       "      <td>public</td>\n",
       "      <td>Non-Networked</td>\n",
       "      <td>2024-02-12</td>\n",
       "      <td>1.0</td>\n",
       "      <td>NaN</td>\n",
       "      <td>2.0</td>\n",
       "      <td>200 Myers Dr</td>\n",
       "      <td>Charlottesville</td>\n",
       "      <td>VA</td>\n",
       "      <td>22901</td>\n",
       "    </tr>\n",
       "  </tbody>\n",
       "</table>\n",
       "</div>"
      ],
      "text/plain": [
       "      ID                  Station Name  Access                Owner  \\\n",
       "0  36363  ARUNDEL MILLS ELEMENT HOTELS  public  ChargePoint Network   \n",
       "1  39514                   Hotel Floyd  public        Non-Networked   \n",
       "2  39763  Passport Nissan - Alexandria  public        Non-Networked   \n",
       "3  39764   Priority Nissan - Chantilly  public        Non-Networked   \n",
       "4  39765               Colonial Nissan  public        Non-Networked   \n",
       "\n",
       "    Last_Used  DC_Fast  Level1_Charging  Level2_Charging  \\\n",
       "0  2024-10-10      NaN              1.0              NaN   \n",
       "1  2022-11-10      NaN              NaN              1.0   \n",
       "2  2024-02-12      1.0              NaN              3.0   \n",
       "3  2024-02-12      1.0              NaN              2.0   \n",
       "4  2024-02-12      1.0              NaN              2.0   \n",
       "\n",
       "                      Address             City State Zipcode  \n",
       "0              7522 Teague Rd          Hanover    MD   21076  \n",
       "1               120 Wilson St            Floyd    VA   24091  \n",
       "2            150 S Pickett St       Alexandria    VA   22304  \n",
       "3  14840 Stonecroft Center Ct        Chantilly    VA   20151  \n",
       "4                200 Myers Dr  Charlottesville    VA   22901  "
      ]
     },
     "execution_count": 6,
     "metadata": {},
     "output_type": "execute_result"
    }
   ],
   "source": [
    "df = pd.DataFrame(df_data)\n",
    "df.head()"
   ]
  },
  {
   "cell_type": "code",
   "execution_count": 7,
   "metadata": {},
   "outputs": [],
   "source": [
    "df.to_csv('data.csv', index=False)\n"
   ]
  },
  {
   "cell_type": "code",
   "execution_count": null,
   "metadata": {},
   "outputs": [],
   "source": []
  }
 ],
 "metadata": {
  "kernelspec": {
   "display_name": "Python 3 (ipykernel)",
   "language": "python",
   "name": "python3"
  },
  "language_info": {
   "codemirror_mode": {
    "name": "ipython",
    "version": 3
   },
   "file_extension": ".py",
   "mimetype": "text/x-python",
   "name": "python",
   "nbconvert_exporter": "python",
   "pygments_lexer": "ipython3",
   "version": "3.12.3"
  },
  "widgets": {
   "application/vnd.jupyter.widget-state+json": {
    "state": {},
    "version_major": 2,
    "version_minor": 0
   }
  }
 },
 "nbformat": 4,
 "nbformat_minor": 4
}
