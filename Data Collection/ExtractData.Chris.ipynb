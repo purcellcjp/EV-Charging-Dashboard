{
 "cells": [
  {
   "cell_type": "code",
   "execution_count": 1,
   "metadata": {},
   "outputs": [],
   "source": [
    "import os\n",
    "import json\n",
    "import requests\n",
    "import pandas as pd\n",
    "from pathlib import Path\n",
    "\n",
    "# Import API Key\n",
    "from config import opencharge_key\n"
   ]
  },
  {
   "cell_type": "code",
   "execution_count": 2,
   "metadata": {},
   "outputs": [
    {
     "name": "stdout",
     "output_type": "stream",
     "text": [
      "File: Data/opencharge_poi_data.json - successfully created\n"
     ]
    }
   ],
   "source": [
    "poi_url = 'https://api.openchargemap.io/v3/poi'\n",
    "\n",
    "params = {'compact':'true',\n",
    "          'countrycode':'US',\n",
    "          'verbose':'false',\n",
    "          'maxresults':'200000',\n",
    "          'key':opencharge_key}\n",
    "\n",
    "headers= {'Accept':'application/json'}\n",
    "\n",
    "file = 'Data/opencharge_poi_data.json'\n",
    "\n",
    "if Path(file).exists():\n",
    "    #delete existing file\n",
    "    os.remove(file)\n",
    "\n",
    "\n",
    "response = requests.get(poi_url, params=params, headers=headers).json()\n",
    "\n",
    "with open(file, 'w', encoding='utf8') as f:\n",
    "    json.dump(response, f, indent=4)\n",
    "\n",
    "if Path(file).exists():\n",
    "    print(f'File: {file} - successfully created')\n",
    "    "
   ]
  },
  {
   "cell_type": "code",
   "execution_count": 3,
   "metadata": {},
   "outputs": [
    {
     "name": "stdout",
     "output_type": "stream",
     "text": [
      "POI Length: 59853\n"
     ]
    }
   ],
   "source": [
    "print('POI Length:', len(response))"
   ]
  },
  {
   "cell_type": "code",
   "execution_count": null,
   "metadata": {},
   "outputs": [],
   "source": [
    "poi_data_path = Path(file)\n",
    "if poi_data_path.exists():\n",
    "    with poi_data_path.open('r', encoding='utf8') as f:\n",
    "        poi_data = json.load(f)\n"
   ]
  },
  {
   "cell_type": "code",
   "execution_count": 4,
   "metadata": {},
   "outputs": [
    {
     "data": {
      "text/html": [
       "<div>\n",
       "<style scoped>\n",
       "    .dataframe tbody tr th:only-of-type {\n",
       "        vertical-align: middle;\n",
       "    }\n",
       "\n",
       "    .dataframe tbody tr th {\n",
       "        vertical-align: top;\n",
       "    }\n",
       "\n",
       "    .dataframe thead th {\n",
       "        text-align: right;\n",
       "    }\n",
       "</style>\n",
       "<table border=\"1\" class=\"dataframe\">\n",
       "  <thead>\n",
       "    <tr style=\"text-align: right;\">\n",
       "      <th></th>\n",
       "      <th>IsRecentlyVerified</th>\n",
       "      <th>DateLastVerified</th>\n",
       "      <th>ID</th>\n",
       "      <th>UUID</th>\n",
       "      <th>DataProviderID</th>\n",
       "      <th>OperatorID</th>\n",
       "      <th>UsageTypeID</th>\n",
       "      <th>UsageCost</th>\n",
       "      <th>AddressInfo</th>\n",
       "      <th>Connections</th>\n",
       "      <th>...</th>\n",
       "      <th>StatusTypeID</th>\n",
       "      <th>DateLastStatusUpdate</th>\n",
       "      <th>DataQualityLevel</th>\n",
       "      <th>DateCreated</th>\n",
       "      <th>SubmissionStatusTypeID</th>\n",
       "      <th>DataProvidersReference</th>\n",
       "      <th>DatePlanned</th>\n",
       "      <th>OperatorsReference</th>\n",
       "      <th>MetadataValues</th>\n",
       "      <th>DateLastConfirmed</th>\n",
       "    </tr>\n",
       "  </thead>\n",
       "  <tbody>\n",
       "    <tr>\n",
       "      <th>0</th>\n",
       "      <td>True</td>\n",
       "      <td>2024-10-07T17:20:00Z</td>\n",
       "      <td>304959</td>\n",
       "      <td>CA4DD728-806C-476F-9DEA-482CABAF83A9</td>\n",
       "      <td>1</td>\n",
       "      <td>3343.0</td>\n",
       "      <td>1.0</td>\n",
       "      <td>$0.35/kWh</td>\n",
       "      <td>{'ID': 305348, 'Title': 'AutoNation Ford Corpu...</td>\n",
       "      <td>[{'ID': 577200, 'ConnectionTypeID': 32, 'Statu...</td>\n",
       "      <td>...</td>\n",
       "      <td>50.0</td>\n",
       "      <td>2024-10-07T17:20:00Z</td>\n",
       "      <td>1.0</td>\n",
       "      <td>2024-10-07T16:28:00Z</td>\n",
       "      <td>200</td>\n",
       "      <td>NaN</td>\n",
       "      <td>NaN</td>\n",
       "      <td>NaN</td>\n",
       "      <td>NaN</td>\n",
       "      <td>NaN</td>\n",
       "    </tr>\n",
       "    <tr>\n",
       "      <th>1</th>\n",
       "      <td>True</td>\n",
       "      <td>2024-10-07T17:20:00Z</td>\n",
       "      <td>304955</td>\n",
       "      <td>3C10CBCB-8C82-47AE-A0D3-8008632BC5AB</td>\n",
       "      <td>1</td>\n",
       "      <td>5.0</td>\n",
       "      <td>4.0</td>\n",
       "      <td>NaN</td>\n",
       "      <td>{'ID': 305344, 'Title': '5140 Business Center ...</td>\n",
       "      <td>[{'ID': 577191, 'ConnectionTypeID': 1, 'Status...</td>\n",
       "      <td>...</td>\n",
       "      <td>50.0</td>\n",
       "      <td>2024-10-07T17:20:00Z</td>\n",
       "      <td>1.0</td>\n",
       "      <td>2024-10-06T21:49:00Z</td>\n",
       "      <td>200</td>\n",
       "      <td>NaN</td>\n",
       "      <td>NaN</td>\n",
       "      <td>NaN</td>\n",
       "      <td>NaN</td>\n",
       "      <td>NaN</td>\n",
       "    </tr>\n",
       "    <tr>\n",
       "      <th>2</th>\n",
       "      <td>True</td>\n",
       "      <td>2024-10-07T17:23:00Z</td>\n",
       "      <td>304949</td>\n",
       "      <td>4FB87A99-81A9-4B60-84BB-B7C93EE25DFE</td>\n",
       "      <td>1</td>\n",
       "      <td>3534.0</td>\n",
       "      <td>4.0</td>\n",
       "      <td>NaN</td>\n",
       "      <td>{'ID': 305338, 'Title': 'Rove - Santa Ana', 'A...</td>\n",
       "      <td>[{'ID': 577183, 'ConnectionTypeID': 27, 'Statu...</td>\n",
       "      <td>...</td>\n",
       "      <td>50.0</td>\n",
       "      <td>2024-10-07T17:23:00Z</td>\n",
       "      <td>1.0</td>\n",
       "      <td>2024-10-06T01:21:00Z</td>\n",
       "      <td>200</td>\n",
       "      <td>NaN</td>\n",
       "      <td>NaN</td>\n",
       "      <td>NaN</td>\n",
       "      <td>NaN</td>\n",
       "      <td>NaN</td>\n",
       "    </tr>\n",
       "    <tr>\n",
       "      <th>3</th>\n",
       "      <td>True</td>\n",
       "      <td>2024-10-07T17:24:00Z</td>\n",
       "      <td>304947</td>\n",
       "      <td>CF6F3A6A-4858-4A94-9022-7826A8C84D44</td>\n",
       "      <td>1</td>\n",
       "      <td>5.0</td>\n",
       "      <td>4.0</td>\n",
       "      <td>NaN</td>\n",
       "      <td>{'ID': 305336, 'Title': 'Arther F Turner Commu...</td>\n",
       "      <td>[{'ID': 577178, 'ConnectionTypeID': 1, 'Status...</td>\n",
       "      <td>...</td>\n",
       "      <td>50.0</td>\n",
       "      <td>2024-10-07T17:24:00Z</td>\n",
       "      <td>1.0</td>\n",
       "      <td>2024-10-05T20:34:00Z</td>\n",
       "      <td>200</td>\n",
       "      <td>NaN</td>\n",
       "      <td>NaN</td>\n",
       "      <td>NaN</td>\n",
       "      <td>NaN</td>\n",
       "      <td>NaN</td>\n",
       "    </tr>\n",
       "    <tr>\n",
       "      <th>4</th>\n",
       "      <td>True</td>\n",
       "      <td>2024-10-07T17:23:00Z</td>\n",
       "      <td>304934</td>\n",
       "      <td>228DE4C5-C712-47E0-8E2E-1314469A6CE1</td>\n",
       "      <td>1</td>\n",
       "      <td>3372.0</td>\n",
       "      <td>4.0</td>\n",
       "      <td>NaN</td>\n",
       "      <td>{'ID': 305323, 'Title': 'Bowlero Manteca', 'Ad...</td>\n",
       "      <td>[{'ID': 577154, 'ConnectionTypeID': 32, 'Statu...</td>\n",
       "      <td>...</td>\n",
       "      <td>50.0</td>\n",
       "      <td>2024-10-07T17:23:00Z</td>\n",
       "      <td>1.0</td>\n",
       "      <td>2024-10-05T00:53:00Z</td>\n",
       "      <td>200</td>\n",
       "      <td>NaN</td>\n",
       "      <td>NaN</td>\n",
       "      <td>NaN</td>\n",
       "      <td>NaN</td>\n",
       "      <td>NaN</td>\n",
       "    </tr>\n",
       "  </tbody>\n",
       "</table>\n",
       "<p>5 rows × 22 columns</p>\n",
       "</div>"
      ],
      "text/plain": [
       "   IsRecentlyVerified      DateLastVerified      ID  \\\n",
       "0                True  2024-10-07T17:20:00Z  304959   \n",
       "1                True  2024-10-07T17:20:00Z  304955   \n",
       "2                True  2024-10-07T17:23:00Z  304949   \n",
       "3                True  2024-10-07T17:24:00Z  304947   \n",
       "4                True  2024-10-07T17:23:00Z  304934   \n",
       "\n",
       "                                   UUID  DataProviderID  OperatorID  \\\n",
       "0  CA4DD728-806C-476F-9DEA-482CABAF83A9               1      3343.0   \n",
       "1  3C10CBCB-8C82-47AE-A0D3-8008632BC5AB               1         5.0   \n",
       "2  4FB87A99-81A9-4B60-84BB-B7C93EE25DFE               1      3534.0   \n",
       "3  CF6F3A6A-4858-4A94-9022-7826A8C84D44               1         5.0   \n",
       "4  228DE4C5-C712-47E0-8E2E-1314469A6CE1               1      3372.0   \n",
       "\n",
       "   UsageTypeID  UsageCost                                        AddressInfo  \\\n",
       "0          1.0  $0.35/kWh  {'ID': 305348, 'Title': 'AutoNation Ford Corpu...   \n",
       "1          4.0        NaN  {'ID': 305344, 'Title': '5140 Business Center ...   \n",
       "2          4.0        NaN  {'ID': 305338, 'Title': 'Rove - Santa Ana', 'A...   \n",
       "3          4.0        NaN  {'ID': 305336, 'Title': 'Arther F Turner Commu...   \n",
       "4          4.0        NaN  {'ID': 305323, 'Title': 'Bowlero Manteca', 'Ad...   \n",
       "\n",
       "                                         Connections  ...  StatusTypeID  \\\n",
       "0  [{'ID': 577200, 'ConnectionTypeID': 32, 'Statu...  ...          50.0   \n",
       "1  [{'ID': 577191, 'ConnectionTypeID': 1, 'Status...  ...          50.0   \n",
       "2  [{'ID': 577183, 'ConnectionTypeID': 27, 'Statu...  ...          50.0   \n",
       "3  [{'ID': 577178, 'ConnectionTypeID': 1, 'Status...  ...          50.0   \n",
       "4  [{'ID': 577154, 'ConnectionTypeID': 32, 'Statu...  ...          50.0   \n",
       "\n",
       "   DateLastStatusUpdate  DataQualityLevel           DateCreated  \\\n",
       "0  2024-10-07T17:20:00Z               1.0  2024-10-07T16:28:00Z   \n",
       "1  2024-10-07T17:20:00Z               1.0  2024-10-06T21:49:00Z   \n",
       "2  2024-10-07T17:23:00Z               1.0  2024-10-06T01:21:00Z   \n",
       "3  2024-10-07T17:24:00Z               1.0  2024-10-05T20:34:00Z   \n",
       "4  2024-10-07T17:23:00Z               1.0  2024-10-05T00:53:00Z   \n",
       "\n",
       "   SubmissionStatusTypeID DataProvidersReference  DatePlanned  \\\n",
       "0                     200                    NaN          NaN   \n",
       "1                     200                    NaN          NaN   \n",
       "2                     200                    NaN          NaN   \n",
       "3                     200                    NaN          NaN   \n",
       "4                     200                    NaN          NaN   \n",
       "\n",
       "   OperatorsReference MetadataValues DateLastConfirmed  \n",
       "0                 NaN            NaN               NaN  \n",
       "1                 NaN            NaN               NaN  \n",
       "2                 NaN            NaN               NaN  \n",
       "3                 NaN            NaN               NaN  \n",
       "4                 NaN            NaN               NaN  \n",
       "\n",
       "[5 rows x 22 columns]"
      ]
     },
     "execution_count": 4,
     "metadata": {},
     "output_type": "execute_result"
    }
   ],
   "source": [
    "poi_data_path = Path(file)\n",
    "if poi_data_path.exists():\n",
    "    poi_df = pd.read_json(file)\n",
    "\n",
    "poi_df.head()\n"
   ]
  },
  {
   "cell_type": "code",
   "execution_count": 7,
   "metadata": {},
   "outputs": [
    {
     "name": "stdout",
     "output_type": "stream",
     "text": [
      "<class 'pandas.core.frame.DataFrame'>\n",
      "RangeIndex: 59853 entries, 0 to 59852\n",
      "Data columns (total 22 columns):\n",
      " #   Column                  Non-Null Count  Dtype  \n",
      "---  ------                  --------------  -----  \n",
      " 0   IsRecentlyVerified      59853 non-null  bool   \n",
      " 1   DateLastVerified        59853 non-null  object \n",
      " 2   ID                      59853 non-null  int64  \n",
      " 3   UUID                    59853 non-null  object \n",
      " 4   DataProviderID          59853 non-null  int64  \n",
      " 5   OperatorID              51060 non-null  float64\n",
      " 6   UsageTypeID             58221 non-null  float64\n",
      " 7   UsageCost               3707 non-null   object \n",
      " 8   AddressInfo             59853 non-null  object \n",
      " 9   Connections             59853 non-null  object \n",
      " 10  NumberOfPoints          9305 non-null   float64\n",
      " 11  GeneralComments         5360 non-null   object \n",
      " 12  StatusTypeID            54538 non-null  float64\n",
      " 13  DateLastStatusUpdate    59853 non-null  object \n",
      " 14  DataQualityLevel        59532 non-null  float64\n",
      " 15  DateCreated             59853 non-null  object \n",
      " 16  SubmissionStatusTypeID  59853 non-null  int64  \n",
      " 17  DataProvidersReference  48749 non-null  float64\n",
      " 18  DatePlanned             2782 non-null   object \n",
      " 19  OperatorsReference      4611 non-null   object \n",
      " 20  MetadataValues          6 non-null      object \n",
      " 21  DateLastConfirmed       427 non-null    object \n",
      "dtypes: bool(1), float64(6), int64(3), object(12)\n",
      "memory usage: 9.6+ MB\n"
     ]
    }
   ],
   "source": [
    "poi_df.info()\n"
   ]
  },
  {
   "cell_type": "code",
   "execution_count": 19,
   "metadata": {},
   "outputs": [
    {
     "data": {
      "text/plain": [
       "[{'ID': 577200,\n",
       "  'ConnectionTypeID': 32,\n",
       "  'StatusTypeID': 50,\n",
       "  'LevelID': 3,\n",
       "  'PowerKW': 120,\n",
       "  'CurrentTypeID': 30,\n",
       "  'Quantity': 2}]"
      ]
     },
     "execution_count": 19,
     "metadata": {},
     "output_type": "execute_result"
    }
   ],
   "source": [
    "poi_df.Connections[0]"
   ]
  },
  {
   "cell_type": "code",
   "execution_count": 10,
   "metadata": {},
   "outputs": [
    {
     "data": {
      "text/plain": [
       "array([200, 100], dtype=int64)"
      ]
     },
     "execution_count": 10,
     "metadata": {},
     "output_type": "execute_result"
    }
   ],
   "source": [
    "poi_df.SubmissionStatusTypeID.unique()"
   ]
  },
  {
   "cell_type": "code",
   "execution_count": null,
   "metadata": {},
   "outputs": [],
   "source": []
  }
 ],
 "metadata": {
  "kernelspec": {
   "display_name": "dev",
   "language": "python",
   "name": "python3"
  },
  "language_info": {
   "codemirror_mode": {
    "name": "ipython",
    "version": 3
   },
   "file_extension": ".py",
   "mimetype": "text/x-python",
   "name": "python",
   "nbconvert_exporter": "python",
   "pygments_lexer": "ipython3",
   "version": "3.10.14"
  }
 },
 "nbformat": 4,
 "nbformat_minor": 2
}
