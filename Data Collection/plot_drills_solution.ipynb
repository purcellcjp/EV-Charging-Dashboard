{
 "cells": [
  {
   "cell_type": "code",
   "execution_count": 5,
   "metadata": {},
   "outputs": [
    {
     "ename": "NameError",
     "evalue": "name 'date_confirmed' is not defined",
     "output_type": "error",
     "traceback": [
      "\u001b[1;31m---------------------------------------------------------------------------\u001b[0m",
      "\u001b[1;31mNameError\u001b[0m                                 Traceback (most recent call last)",
      "Cell \u001b[1;32mIn[5], line 20\u001b[0m\n\u001b[0;32m      7\u001b[0m     features \u001b[38;5;241m=\u001b[39m []\n\u001b[0;32m      8\u001b[0m     \u001b[38;5;28;01mfor\u001b[39;00m row \u001b[38;5;129;01min\u001b[39;00m reader:\n\u001b[0;32m      9\u001b[0m         \u001b[38;5;66;03m# Assuming the CSV has 'latitude', 'longitude', and 'name' columns\u001b[39;00m\n\u001b[0;32m     10\u001b[0m         feature \u001b[38;5;241m=\u001b[39m {\n\u001b[0;32m     11\u001b[0m             \u001b[38;5;124m\"\u001b[39m\u001b[38;5;124mtype\u001b[39m\u001b[38;5;124m\"\u001b[39m: \u001b[38;5;124m\"\u001b[39m\u001b[38;5;124mFeature\u001b[39m\u001b[38;5;124m\"\u001b[39m,\n\u001b[0;32m     12\u001b[0m             \u001b[38;5;124m\"\u001b[39m\u001b[38;5;124mgeometry\u001b[39m\u001b[38;5;124m\"\u001b[39m: {\n\u001b[0;32m     13\u001b[0m                 \u001b[38;5;124m\"\u001b[39m\u001b[38;5;124mtype\u001b[39m\u001b[38;5;124m\"\u001b[39m: \u001b[38;5;124m\"\u001b[39m\u001b[38;5;124mPoint\u001b[39m\u001b[38;5;124m\"\u001b[39m,\n\u001b[0;32m     14\u001b[0m                 \u001b[38;5;124m\"\u001b[39m\u001b[38;5;124mcoordinates\u001b[39m\u001b[38;5;124m\"\u001b[39m: [\u001b[38;5;28mfloat\u001b[39m(row[\u001b[38;5;124m'\u001b[39m\u001b[38;5;124mLongitude\u001b[39m\u001b[38;5;124m'\u001b[39m]), \u001b[38;5;28mfloat\u001b[39m(row[\u001b[38;5;124m'\u001b[39m\u001b[38;5;124mLatitude\u001b[39m\u001b[38;5;124m'\u001b[39m])]\n\u001b[0;32m     15\u001b[0m             },\n\u001b[0;32m     16\u001b[0m             \u001b[38;5;124m\"\u001b[39m\u001b[38;5;124mproperties\u001b[39m\u001b[38;5;124m\"\u001b[39m: {\n\u001b[0;32m     17\u001b[0m                 \u001b[38;5;124m\"\u001b[39m\u001b[38;5;124mID\u001b[39m\u001b[38;5;124m\"\u001b[39m: row[\u001b[38;5;124m'\u001b[39m\u001b[38;5;124mID\u001b[39m\u001b[38;5;124m'\u001b[39m],\n\u001b[0;32m     18\u001b[0m                 \u001b[38;5;124m\"\u001b[39m\u001b[38;5;124mStation Name\u001b[39m\u001b[38;5;124m\"\u001b[39m:row[\u001b[38;5;124m\"\u001b[39m\u001b[38;5;124mStation Name\u001b[39m\u001b[38;5;124m\"\u001b[39m],\n\u001b[0;32m     19\u001b[0m                 \u001b[38;5;124m\"\u001b[39m\u001b[38;5;124mAccess\u001b[39m\u001b[38;5;124m\"\u001b[39m:row[\u001b[38;5;124m\"\u001b[39m\u001b[38;5;124mAccess\u001b[39m\u001b[38;5;124m\"\u001b[39m],\n\u001b[1;32m---> 20\u001b[0m                 \u001b[38;5;124m\"\u001b[39m\u001b[38;5;124mOwner\u001b[39m\u001b[38;5;124m\"\u001b[39m:row[\u001b[38;5;124m\"\u001b[39m\u001b[38;5;124mOwner\u001b[39m\u001b[38;5;124m\"\u001b[39m],\u001b[38;5;124m\"\u001b[39m\u001b[38;5;124mLast_Used\u001b[39m\u001b[38;5;124m\"\u001b[39m:date_confirmed,\u001b[38;5;124m\"\u001b[39m\u001b[38;5;124mOpen_Date\u001b[39m\u001b[38;5;124m\"\u001b[39m:open_date,\u001b[38;5;124m\"\u001b[39m\u001b[38;5;124mDC_Fast\u001b[39m\u001b[38;5;124m\"\u001b[39m:dc_fast,\u001b[38;5;124m\"\u001b[39m\u001b[38;5;124mLevel1_Charging\u001b[39m\u001b[38;5;124m\"\u001b[39m:level1, \\\n\u001b[0;32m     21\u001b[0m \u001b[38;5;124m\"\u001b[39m\u001b[38;5;124mLevel2_Charging\u001b[39m\u001b[38;5;124m\"\u001b[39m:level2, \u001b[38;5;124m\"\u001b[39m\u001b[38;5;124mAddress\u001b[39m\u001b[38;5;124m\"\u001b[39m:street_address,\u001b[38;5;124m\"\u001b[39m\u001b[38;5;124mCity\u001b[39m\u001b[38;5;124m\"\u001b[39m:city,\u001b[38;5;124m\"\u001b[39m\u001b[38;5;124mState\u001b[39m\u001b[38;5;124m\"\u001b[39m:state,\u001b[38;5;124m\"\u001b[39m\u001b[38;5;124mZipcode\u001b[39m\u001b[38;5;124m\"\u001b[39m:\u001b[38;5;28mzip\u001b[39m,\u001b[38;5;124m\"\u001b[39m\u001b[38;5;124mLatitude\u001b[39m\u001b[38;5;124m\"\u001b[39m:latitude,\u001b[38;5;124m\"\u001b[39m\u001b[38;5;124mLongitude\u001b[39m\u001b[38;5;124m\"\u001b[39m:longitude,\u001b[38;5;124m\"\u001b[39m\u001b[38;5;124mPricing\u001b[39m\u001b[38;5;124m\"\u001b[39m:pricing,\\\n\u001b[0;32m     22\u001b[0m           \u001b[38;5;124m\"\u001b[39m\u001b[38;5;124mConnection_Type\u001b[39m\u001b[38;5;124m\"\u001b[39m:ev_connector_types\n\u001b[0;32m     23\u001b[0m             }\n\u001b[0;32m     24\u001b[0m         }\n\u001b[0;32m     25\u001b[0m         features\u001b[38;5;241m.\u001b[39mappend(feature)\n\u001b[0;32m     27\u001b[0m \u001b[38;5;66;03m# Create the GeoJSON structure\u001b[39;00m\n",
      "\u001b[1;31mNameError\u001b[0m: name 'date_confirmed' is not defined"
     ]
    }
   ],
   "source": [
    "import csv\n",
    "import json\n",
    "\n",
    "# Read the CSV file\n",
    "with open('data.csv', 'r') as csvfile:\n",
    "    reader = csv.DictReader(csvfile)\n",
    "    features = []\n",
    "    for row in reader:\n",
    "        # Assuming the CSV has 'latitude', 'longitude', and 'name' columns\n",
    "        feature = {\n",
    "            \"type\": \"Feature\",\n",
    "            \"geometry\": {\n",
    "                \"type\": \"Point\",\n",
    "                \"coordinates\": [float(row['Longitude']), float(row['Latitude'])]\n",
    "            },\n",
    "            \"properties\": {\n",
    "                \"ID\": row['ID'],\n",
    "                \"Station Name\":row[\"Station Name\"],\n",
    "                \"Access\":row[\"Access\"],\n",
    "                \"Owner\":row[\"Owner\"],\n",
    "                \"Last_Used\":row[\"Last_Used\"],\n",
    "                \"Open_Date\":row[\"Open_Date\"],\n",
    "                \"DC_Fast\":row[\"DC_Fast\"],\n",
    "                \"Level1_Charging\":row[\"Level1_Charging\"],\n",
    "                \"Level2_Charging\":level2, \"Address\":street_address,\"City\":city,\"State\":state,\"Zipcode\":zip,\"Latitude\":latitude,\"Longitude\":longitude,\"Pricing\":pricing,\\\n",
    "          \"Connection_Type\":ev_connector_types\n",
    "            }\n",
    "        }\n",
    "        features.append(feature)\n",
    "\n",
    "# Create the GeoJSON structure\n",
    "geojson = {\n",
    "    \"type\": \"FeatureCollection\",\n",
    "    \"features\": features\n",
    "}\n",
    "\n",
    "# Write the GeoJSON file\n",
    "with open('output.geojson', 'w') as geojsonfile:\n",
    "    json.dump(geojson, geojsonfile, indent=4)"
   ]
  },
  {
   "cell_type": "code",
   "execution_count": null,
   "metadata": {},
   "outputs": [],
   "source": []
  }
 ],
 "metadata": {
  "kernelspec": {
   "display_name": "Python 3 (ipykernel)",
   "language": "python",
   "name": "python3"
  },
  "language_info": {
   "codemirror_mode": {
    "name": "ipython",
    "version": 3
   },
   "file_extension": ".py",
   "mimetype": "text/x-python",
   "name": "python",
   "nbconvert_exporter": "python",
   "pygments_lexer": "ipython3",
   "version": "3.12.3"
  },
  "widgets": {
   "application/vnd.jupyter.widget-state+json": {
    "state": {},
    "version_major": 2,
    "version_minor": 0
   }
  }
 },
 "nbformat": 4,
 "nbformat_minor": 4
}
