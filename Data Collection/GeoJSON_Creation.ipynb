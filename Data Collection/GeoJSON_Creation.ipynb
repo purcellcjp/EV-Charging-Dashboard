{
 "cells": [
  {
   "cell_type": "code",
   "execution_count": 7,
   "metadata": {},
   "outputs": [],
   "source": [
    "import csv\n",
    "import json\n",
    "\n",
    "# Read the CSV file\n",
    "with open('data.csv', 'r') as csvfile:\n",
    "    reader = csv.DictReader(csvfile)\n",
    "    features = []\n",
    "    for row in reader:\n",
    "        # Assuming the CSV has 'latitude', 'longitude', and 'name' columns\n",
    "        feature = {\n",
    "            \"type\": \"Feature\",\n",
    "            \"geometry\": {\n",
    "                \"type\": \"Point\",\n",
    "                \"coordinates\": [float(row['Longitude']), float(row['Latitude'])]\n",
    "            },\n",
    "            \"properties\": {\n",
    "                \"ID\": row['ID'],\n",
    "                \"Station Name\":row[\"Station Name\"],\n",
    "                \"Access\":row[\"Access\"],\n",
    "                \"Owner\":row[\"Owner\"],\n",
    "                \"Last_Used\":row[\"Last_Used\"],\n",
    "                \"Open_Date\":row[\"Open_Date\"],\n",
    "                \"DC_Fast\":row[\"DC_Fast\"],\n",
    "                \"Level1_Charging\":row[\"Level1_Charging\"],\n",
    "                \"Level2_Charging\":row[\"Level2_Charging\"],\n",
    "                \"Address\":row[\"Address\"],\n",
    "                \"City\":row[\"City\"],\n",
    "                \"State\":row[\"State\"],\n",
    "                \"Zipcode\":row[\"Zipcode\"],\n",
    "                \"Pricing\":row[\"Pricing\"],\n",
    "                \"Connection_Type\":row[\"Connection_Type\"]\n",
    "            }\n",
    "        }\n",
    "        features.append(feature)\n",
    "\n",
    "# Create the GeoJSON structure\n",
    "geojson = {\n",
    "    \"type\": \"FeatureCollection\",\n",
    "    \"features\": features\n",
    "}\n",
    "\n",
    "# Write the GeoJSON file\n",
    "with open('output.geojson', 'w') as geojsonfile:\n",
    "    json.dump(geojson, geojsonfile, indent=4)"
   ]
  },
  {
   "cell_type": "code",
   "execution_count": null,
   "metadata": {},
   "outputs": [],
   "source": []
  }
 ],
 "metadata": {
  "kernelspec": {
   "display_name": "Python 3 (ipykernel)",
   "language": "python",
   "name": "python3"
  },
  "language_info": {
   "codemirror_mode": {
    "name": "ipython",
    "version": 3
   },
   "file_extension": ".py",
   "mimetype": "text/x-python",
   "name": "python",
   "nbconvert_exporter": "python",
   "pygments_lexer": "ipython3",
   "version": "3.12.3"
  },
  "widgets": {
   "application/vnd.jupyter.widget-state+json": {
    "state": {},
    "version_major": 2,
    "version_minor": 0
   }
  }
 },
 "nbformat": 4,
 "nbformat_minor": 4
}
